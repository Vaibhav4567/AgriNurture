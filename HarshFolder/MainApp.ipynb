{
 "cells": [
  {
   "cell_type": "code",
   "execution_count": 1,
   "id": "6e30668d",
   "metadata": {},
   "outputs": [],
   "source": [
    "import matplotlib.pyplot as plt\n",
    "import seaborn as sns\n",
    "import scipy\n",
    "import re\n",
    "import missingno as mso\n",
    "from scipy import stats\n",
    "from scipy.stats import ttest_ind\n",
    "from scipy.stats import pearsonr\n",
    "from sklearn.preprocessing import StandardScaler,LabelEncoder\n",
    "from sklearn.model_selection import train_test_split \n",
    "from sklearn.neighbors import KNeighborsClassifier\n",
    "from sklearn.svm import SVC\n",
    "from sklearn.ensemble import GradientBoostingClassifier\n",
    "from xgboost import XGBClassifier\n",
    "from sklearn.metrics import accuracy_score,confusion_matrix,classification_report\n",
    "import pandas as pd"
   ]
  },
  {
   "cell_type": "code",
   "execution_count": 2,
   "id": "46273d75",
   "metadata": {},
   "outputs": [],
   "source": [
    "data=pd.read_csv(\"seattle-weather.csv\")"
   ]
  },
  {
   "cell_type": "code",
   "execution_count": 3,
   "id": "fdffb87d",
   "metadata": {},
   "outputs": [],
   "source": [
    "data=data.drop(['date'],axis=1)"
   ]
  },
  {
   "cell_type": "code",
   "execution_count": 4,
   "id": "66a698fc",
   "metadata": {},
   "outputs": [],
   "source": [
    "# Filter numeric columns\n",
    "numeric_data = data.select_dtypes(include=['float64', 'int64'])\n",
    "\n",
    "# Calculate quantiles for numeric data\n",
    "Q1 = numeric_data.quantile(0.25)\n",
    "Q3 = numeric_data.quantile(0.75)\n",
    "IQR = Q3 - Q1\n"
   ]
  },
  {
   "cell_type": "code",
   "execution_count": 5,
   "id": "1a8c82b7",
   "metadata": {},
   "outputs": [],
   "source": [
    "import numpy as np\n",
    "data.precipitation=np.sqrt(data.precipitation)\n",
    "data.wind=np.sqrt(data.wind)"
   ]
  },
  {
   "cell_type": "code",
   "execution_count": 6,
   "id": "cf64f0f5",
   "metadata": {},
   "outputs": [],
   "source": [
    "lc=LabelEncoder()\n",
    "data['weather']=lc.fit_transform(data['weather'])"
   ]
  },
  {
   "cell_type": "code",
   "execution_count": 7,
   "id": "9a6b4c1d",
   "metadata": {},
   "outputs": [],
   "source": [
    "x=((data.loc[:,data.columns!='weather']).astype(int)).values[:,0:]\n",
    "y=data['weather'].values"
   ]
  },
  {
   "cell_type": "code",
   "execution_count": 8,
   "id": "d5a398fb",
   "metadata": {},
   "outputs": [],
   "source": [
    "x_train,x_test,y_train,y_test=train_test_split(x,y,test_size=0.1,random_state=2)"
   ]
  },
  {
   "cell_type": "code",
   "execution_count": 9,
   "id": "16a51b6c",
   "metadata": {},
   "outputs": [
    {
     "name": "stdout",
     "output_type": "stream",
     "text": [
      "XGB accuracy:80.27%\n"
     ]
    }
   ],
   "source": [
    "import warnings\n",
    "warnings.filterwarnings('ignore')\n",
    "xgb=XGBClassifier()\n",
    "xgb.fit(x_train,y_train)\n",
    "print('XGB accuracy:{:.2f}%'.format(xgb.score(x_test,y_test)*100))"
   ]
  },
  {
   "cell_type": "code",
   "execution_count": 10,
   "id": "2090192b",
   "metadata": {},
   "outputs": [
    {
     "name": "stdout",
     "output_type": "stream",
     "text": [
      "the weather is:\n",
      "rain\n"
     ]
    }
   ],
   "source": [
    "input=[[1.140175,8.9,2.8,2.469818]]\n",
    "ot=xgb.predict(input)\n",
    "print('the weather is:')\n",
    "if(ot==0):\n",
    "  print('Drizzle')\n",
    "elif (ot==1):\n",
    "  print('fogg')\n",
    "elif (ot==2):\n",
    "  print('rain')\n",
    "elif (ot==3):\n",
    "  print('snow')\n",
    "else:\n",
    "  print('sun')"
   ]
  },
  {
   "cell_type": "code",
   "execution_count": null,
   "id": "eea80972",
   "metadata": {},
   "outputs": [],
   "source": []
  }
 ],
 "metadata": {
  "kernelspec": {
   "display_name": "Python 3 (ipykernel)",
   "language": "python",
   "name": "python3"
  },
  "language_info": {
   "codemirror_mode": {
    "name": "ipython",
    "version": 3
   },
   "file_extension": ".py",
   "mimetype": "text/x-python",
   "name": "python",
   "nbconvert_exporter": "python",
   "pygments_lexer": "ipython3",
   "version": "3.11.5"
  }
 },
 "nbformat": 4,
 "nbformat_minor": 5
}
